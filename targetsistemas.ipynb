{
 "cells": [
  {
   "cell_type": "markdown",
   "id": "cb1b97eb",
   "metadata": {},
   "source": [
    "1) Observe o trecho de código abaixo: int INDICE = 13, SOMA = 0, K = 0;\n",
    "Enquanto K < INDICE faça { K = K + 1; SOMA = SOMA + K; }\n",
    "Imprimir(SOMA);\n",
    "Ao final do processamento, qual será o valor da variável SOMA?"
   ]
  },
  {
   "cell_type": "code",
   "execution_count": 21,
   "id": "c591344b",
   "metadata": {
    "vscode": {
     "languageId": "polyglot-notebook"
    }
   },
   "outputs": [
    {
     "name": "stdout",
     "output_type": "stream",
     "text": [
      "91\r\n"
     ]
    }
   ],
   "source": [
    "int INDICE = 13;\n",
    "int SOMA = 0;\n",
    "int K = 0;\n",
    "\n",
    "while (K < INDICE)\n",
    "{\n",
    "    K++;\n",
    "    SOMA += K;\n",
    "}\n",
    "\n",
    "Console.WriteLine(SOMA); "
   ]
  },
  {
   "cell_type": "markdown",
   "id": "da72c188",
   "metadata": {},
   "source": [
    " 2) Dado a sequência de Fibonacci, onde se inicia por 0 e 1 e o próximo valor sempre será a soma dos 2 valores anteriores (exemplo: 0, 1, 1, 2, 3, 5, 8, 13, 21, 34...), escreva um programa na linguagem que desejar onde, informado um número, ele calcule a sequência de Fibonacci e retorne uma mensagem avisando se o número informado pertence ou não a sequência.\n",
    "\n",
    ">IMPORTANTE: Esse número pode ser informado através de qualquer entrada de sua preferência ou pode ser previamente definido no código;"
   ]
  },
  {
   "cell_type": "code",
   "execution_count": 22,
   "id": "edc35b06",
   "metadata": {
    "vscode": {
     "languageId": "polyglot-notebook"
    }
   },
   "outputs": [
    {
     "name": "stdout",
     "output_type": "stream",
     "text": [
      "O número 5 pertence à sequência.\r\n"
     ]
    },
    {
     "data": {
      "text/html": [
       "<div class=\"dni-plaintext\"><pre>&lt;null&gt;</pre></div><style>\r\n",
       ".dni-code-hint {\r\n",
       "    font-style: italic;\r\n",
       "    overflow: hidden;\r\n",
       "    white-space: nowrap;\r\n",
       "}\r\n",
       ".dni-treeview {\r\n",
       "    white-space: nowrap;\r\n",
       "}\r\n",
       ".dni-treeview td {\r\n",
       "    vertical-align: top;\r\n",
       "    text-align: start;\r\n",
       "}\r\n",
       "details.dni-treeview {\r\n",
       "    padding-left: 1em;\r\n",
       "}\r\n",
       "table td {\r\n",
       "    text-align: start;\r\n",
       "}\r\n",
       "table tr { \r\n",
       "    vertical-align: top; \r\n",
       "    margin: 0em 0px;\r\n",
       "}\r\n",
       "table tr td pre \r\n",
       "{ \r\n",
       "    vertical-align: top !important; \r\n",
       "    margin: 0em 0px !important;\r\n",
       "} \r\n",
       "table th {\r\n",
       "    text-align: start;\r\n",
       "}\r\n",
       "</style>"
      ]
     },
     "metadata": {},
     "output_type": "display_data"
    }
   ],
   "source": [
    "int numeroTeste = 5;\n",
    "\n",
    "if (numeroTeste == 0 || numeroTeste == 1)\n",
    "{\n",
    "    Console.WriteLine($\"O número {numeroTeste} pertence à sequência.\");\n",
    "    return;\n",
    "}\n",
    "\n",
    "int a = 0, b = 1, proximo = a + b;\n",
    "\n",
    "while (proximo <= numeroTeste)\n",
    "{ \n",
    "    a = b;\n",
    "    b = proximo;\n",
    "    proximo = a + b;\n",
    "    // Console.Write(proximo); <- testando\n",
    "}\n",
    "\n",
    "Console.WriteLine(\n",
    "    b == numeroTeste\n",
    "        ? $\"O número {numeroTeste} pertence à sequência.\"\n",
    "        : $\"O número {numeroTeste} não pertence à sequência.\");"
   ]
  },
  {
   "cell_type": "markdown",
   "id": "3e4af146",
   "metadata": {},
   "source": [
    "3) Dado um vetor que guarda o valor de faturamento diário de uma distribuidora, faça um programa, na linguagem que desejar, que calcule e retorne:\n",
    "• O menor valor de faturamento ocorrido em um dia do mês;\n",
    "• O maior valor de faturamento ocorrido em um dia do mês;\n",
    "• Número de dias no mês em que o valor de faturamento diário foi superior à média mensal.\n",
    "\n",
    "    IMPORTANTE:\n",
    "    a) Usar o json ou xml disponível como fonte dos dados do faturamento mensal;\n",
    "    b) Podem existir dias sem faturamento, como nos finais de semana e feriados. Estes dias devem ser ignorados no cálculo da média;"
   ]
  },
  {
   "cell_type": "code",
   "execution_count": 23,
   "id": "8f3bfbe0",
   "metadata": {
    "vscode": {
     "languageId": "polyglot-notebook"
    }
   },
   "outputs": [
    {
     "data": {
      "text/html": [
       "<div><div></div><div></div><div><strong>Installed Packages</strong><ul><li><span>Newtonsoft.Json, 13.0.3</span></li></ul></div></div>"
      ]
     },
     "metadata": {},
     "output_type": "display_data"
    },
    {
     "name": "stdout",
     "output_type": "stream",
     "text": [
      "📅 Análise de Faturamento Mensal\n",
      "\n",
      " O menor valor de faturamento ocorrido em um dia do mês: 42.22\n",
      " O maior valor de faturamento ocorrido em um dia do mês: 10,191.47\n",
      " Média válida: 2,602.98\n",
      " Número de dias no mês em que o valor de faturamento diário foi superior à média mensal: 4\n",
      "\n",
      " Detalhe dos Dias Válidos:\n",
      "• Dia  1: 274.16\n",
      "• Dia  2: 237.66\n",
      "• Dia  3: 2,139.61\n",
      "• Dia  6: 2,642.66\n",
      "• Dia  8: 42.22\n",
      "• Dia  9: 4,651.17\n",
      "• Dia 10: 10,191.47\n",
      "• Dia 13: 3,047.48\n",
      "• Dia 14: 200.38\n"
     ]
    }
   ],
   "source": [
    "\n",
    "#r \"nuget: Newtonsoft.Json\"\n",
    "using System;\n",
    "using System.IO;\n",
    "using System.Linq;\n",
    "using Newtonsoft.Json;\n",
    "\n",
    "\n",
    "public class DiaFaturamento\n",
    "{\n",
    "    public int Dia { get; set; }\n",
    "    public double Valor { get; set; }\n",
    "}\n",
    "\n",
    "\n",
    "var Json = @\"C:\\dev\\Entrevistas\\faturamento.json\";\n",
    "var json = File.ReadAllText(Json);\n",
    "\n",
    "\n",
    "var dados = JsonConvert.DeserializeObject<dynamic>(json);\n",
    "var dias = ((Newtonsoft.Json.Linq.JArray)dados.dias)\n",
    "          .ToObject<List<DiaFaturamento>>();\n",
    "\n",
    "\n",
    "var diasValidos = dias.Where(d => d.Valor > 0).ToList();\n",
    "var resultado = new {\n",
    "    MenorValor = diasValidos.Min(d => d.Valor),\n",
    "    MaiorValor = diasValidos.Max(d => d.Valor),\n",
    "    Media = diasValidos.Average(d => d.Valor),\n",
    "    DiasAcimaMedia = diasValidos.Count(d => d.Valor > diasValidos.Average(d => d.Valor))\n",
    "};\n",
    "\n",
    "\n",
    "Console.WriteLine(\"📅 Análise de Faturamento Mensal\");\n",
    "Console.WriteLine($\"\\n O menor valor de faturamento ocorrido em um dia do mês: {resultado.MenorValor:N2}\");\n",
    "Console.WriteLine($\" O maior valor de faturamento ocorrido em um dia do mês: {resultado.MaiorValor:N2}\");\n",
    "Console.WriteLine($\" Média válida: {resultado.Media:N2}\");\n",
    "Console.WriteLine($\" Número de dias no mês em que o valor de faturamento diário foi superior à média mensal: {resultado.DiasAcimaMedia}\");\n",
    "\n",
    "\n",
    "Console.WriteLine(\"\\n Detalhe dos Dias Válidos:\");\n",
    "diasValidos.ForEach(d => Console.WriteLine($\"• Dia {d.Dia.ToString().PadLeft(2)}: {d.Valor:N2}\"));"
   ]
  },
  {
   "cell_type": "markdown",
   "id": "a243aaa4",
   "metadata": {},
   "source": [
    "4) Dado o valor de faturamento mensal de uma distribuidora, detalhado por estado:\n",
    "\n",
    "    • SP – R$67.836,43\n",
    "\n",
    "    • RJ – R$36.678,66\n",
    "\n",
    "    • MG – R$29.229,88\n",
    "\n",
    "    • ES – R$27.165,48\n",
    "\n",
    "    • Outros – R$19.849,53\n",
    "\n",
    "\n",
    "Escreva um programa na linguagem que desejar onde calcule o percentual de representação que cada estado teve dentro do valor total mensal da distribuidora.  "
   ]
  },
  {
   "cell_type": "code",
   "execution_count": null,
   "id": "eaf02379",
   "metadata": {
    "vscode": {
     "languageId": "polyglot-notebook"
    }
   },
   "outputs": [
    {
     "name": "stdout",
     "output_type": "stream",
     "text": [
      "Percentual de representação por estado:\n",
      "\n",
      "SP    : 37,53%\n",
      "RJ    : 20,29%\n",
      "MG    : 16,17%\n",
      "ES    : 15,03%\n",
      "Outros: 10,98%\n",
      "\n",
      "Total mensal: R$ 180.759,98\n"
     ]
    }
   ],
   "source": [
    "\n",
    "// O(n)\n",
    "\n",
    "using System.Collections.Generic;\n",
    "using System.Globalization;\n",
    "using System.Linq;\n",
    "using System.Threading;\n",
    "\n",
    "Thread.CurrentThread.CurrentCulture = new CultureInfo(\"pt-BR\"); // cultura do usuário para evitar erro\n",
    "\n",
    "var faturamento = new Dictionary<string, decimal>\n",
    "{\n",
    "    [\"SP\"]     = 67_836.43M,\n",
    "    [\"RJ\"]     = 36_678.66M,\n",
    "    [\"MG\"]     = 29_229.88M,\n",
    "    [\"ES\"]     = 27_165.48M,\n",
    "    [\"Outros\"] = 19_849.53M\n",
    "};\n",
    "\n",
    "decimal total = faturamento.Values.Sum();\n",
    "\n",
    "Console.WriteLine(\"Percentual de representação por estado:\\n\");\n",
    "foreach (var (estado, valor) in faturamento)\n",
    "{\n",
    "    decimal percentual = valor / total * 100;\n",
    "    Console.WriteLine($\"{estado,-6}: {percentual:N2}%\");\n",
    "}\n",
    "\n",
    "Console.WriteLine($\"\\nTotal mensal: {total:C}\");\n",
    "\n",
    "// Exibe de acordo com a cultura do usuário. "
   ]
  },
  {
   "cell_type": "markdown",
   "id": "ab0d6637",
   "metadata": {},
   "source": [
    "5) Escreva um programa que inverta os caracteres de um string.\n",
    "\n",
    "IMPORTANTE:\n",
    "a) Essa string pode ser informada através de qualquer entrada de sua preferência ou pode ser previamente definida no código;\n",
    "b) Evite usar funções prontas, como, por exemplo, reverse;\n"
   ]
  },
  {
   "cell_type": "code",
   "execution_count": 32,
   "id": "6b2bcb74",
   "metadata": {
    "vscode": {
     "languageId": "polyglot-notebook"
    }
   },
   "outputs": [
    {
     "name": "stdout",
     "output_type": "stream",
     "text": [
      "Original:  Quero trabalhar na Target Sistemas\n",
      "Invertida: sametsiS tegraT an rahlabart oreuQ\n"
     ]
    }
   ],
   "source": [
    "\n",
    "string original = \"Quero trabalhar na Target Sistemas\";\n",
    "\n",
    "\n",
    "char[] chars = original.ToCharArray();\n",
    "\n",
    "// two pointers \n",
    "for (int i = 0, j = chars.Length - 1; i < j; i++, j--)\n",
    "{\n",
    "    (chars[i], chars[j]) = (chars[j], chars[i]);\n",
    "}\n",
    "\n",
    "\n",
    "Console.WriteLine($\"Original:  {original}\");\n",
    "Console.WriteLine($\"Invertida: {new string(chars)}\");"
   ]
  },
  {
   "cell_type": "markdown",
   "id": "c0c29a07",
   "metadata": {},
   "source": [
    "NÃO SE ESQUEÇA DE INSERIR O LINK DO SEU REPOSITÓRIO NO GITHUB COM O CÓDIGO FONTE QUE VOCÊ DESENVOLVEU\n",
    "\n",
    "> https://github.com/broeringvictor "
   ]
  },
  {
   "cell_type": "markdown",
   "id": "c9e96628",
   "metadata": {},
   "source": []
  }
 ],
 "metadata": {
  "kernelspec": {
   "display_name": ".NET (C#)",
   "language": "C#",
   "name": ".net-csharp"
  },
  "language_info": {
   "name": "python"
  },
  "polyglot_notebook": {
   "kernelInfo": {
    "defaultKernelName": "csharp",
    "items": [
     {
      "aliases": [],
      "name": "csharp"
     }
    ]
   }
  }
 },
 "nbformat": 4,
 "nbformat_minor": 5
}
